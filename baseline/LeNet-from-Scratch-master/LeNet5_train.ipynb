{
 "cells": [
  {
   "cell_type": "markdown",
   "metadata": {},
   "source": [
    "# LeNet5 Implementation from Scratch"
   ]
  },
  {
   "cell_type": "markdown",
   "metadata": {},
   "source": [
    "This is an implementation of LeNet5 from [Yann LeCun's paper](http://yann.lecun.com/exdb/publis/pdf/lecun-98.pdf) in 1998.\n",
    "Without any auto-differentiate tools or other deep learning frameworks, accuracy of 98.6% on MNIST testing dataset has achieved after 20 epoches of training (93.5% after 1st epoch). \n",
    "\n",
    "This notebook shows the result of training after each epoches. The feature maps in the each layer are also shown after training and the F6 layer does output a figure looks like the preset ASCII bitmap."
   ]
  },
  {
   "cell_type": "markdown",
   "metadata": {},
   "source": [
    "## 0. Import Packages, Functions & Objects"
   ]
  },
  {
   "cell_type": "markdown",
   "metadata": {},
   "source": [
    "The training is running with Pyton3.6 and the OS is Win10. Will try to test on other platform in the future "
   ]
  },
  {
   "cell_type": "code",
   "execution_count": 1,
   "metadata": {
    "code_folding": []
   },
   "outputs": [],
   "source": [
    "#import package\n",
    "import numpy as np \n",
    "import sys\n",
    "import pickle\n",
    "import matplotlib.pyplot as plt\n",
    "import matplotlib.image as mpimg\n",
    "import matplotlib as mpl\n",
    "import time"
   ]
  },
  {
   "cell_type": "code",
   "execution_count": 4,
   "metadata": {},
   "outputs": [],
   "source": [
    "from utils.LayerObjects import *\n",
    "from utils.utils_func import *"
   ]
  },
  {
   "cell_type": "markdown",
   "metadata": {},
   "source": [
    "# 1. Read Dataset & Preprocessing"
   ]
  },
  {
   "cell_type": "markdown",
   "metadata": {},
   "source": [
    "LeNet5 was designed for classifying the hand writing digits. The MNIST is a database of handwritten digits, containing a training set of 60,000 examples, and a test set of 10,000 examples. You can auto-download the dataset by executing the `MNIST_auto_Download.py` in the folder or download from [Yann Lecun's website](http://yann.lecun.com/exdb/mnist/index.html)."
   ]
  },
  {
   "cell_type": "markdown",
   "metadata": {},
   "source": [
    "## 1.1 Import Images & labels from MNIST Dataset"
   ]
  },
  {
   "cell_type": "code",
   "execution_count": 7,
   "metadata": {
    "code_folding": []
   },
   "outputs": [],
   "source": [
    "# the path of the dataset\n",
    "test_image_path = r'./MNIST/t10k-images.idx3-ubyte'\n",
    "test_label_path = r'./MNIST/t10k-labels.idx1-ubyte'\n",
    "train_image_path = r'./MNIST/train-images.idx3-ubyte'\n",
    "train_label_path = r'./MNIST/train-labels.idx1-ubyte'\n",
    "trainset = (train_image_path, train_label_path)\n",
    "testset = (test_image_path, test_label_path)"
   ]
  },
  {
   "cell_type": "code",
   "execution_count": 8,
   "metadata": {
    "code_folding": []
   },
   "outputs": [
    {
     "name": "stdout",
     "output_type": "stream",
     "text": [
      "The shape of training image: (60000, 28, 28)\n",
      "The shape of testing image:  (10000, 28, 28)\n",
      "Length of the training set:  60000\n",
      "Length of the training set:  10000\n",
      "Shape of a single image:  (28, 28)\n"
     ]
    }
   ],
   "source": [
    "# read the dataset with readDataset()\n",
    "(train_image, train_label) = readDataset(trainset)\n",
    "(test_image, test_label) = readDataset(testset)\n",
    "n_m, n_m_test = len(train_label), len(test_label)\n",
    "print(\"The shape of training image:\", train_image.shape)\n",
    "print(\"The shape of testing image: \", test_image.shape)\n",
    "print(\"Length of the training set: \", n_m)\n",
    "print(\"Length of the training set: \", n_m_test)\n",
    "print(\"Shape of a single image: \", train_image[0].shape)"
   ]
  },
  {
   "cell_type": "markdown",
   "metadata": {},
   "source": [
    "## 1.2 Zero-padding & Normalization"
   ]
  },
  {
   "cell_type": "markdown",
   "metadata": {},
   "source": [
    "Before feeding the images into the ConvNet, zero-padding with `pad=2` is used. \n",
    "The normalization method used in the original paper of LeNet5 is scaling and translating the pixel values to the range of [-0.1, 1.175], which makes the average of pixel values in each image approxiamtely equals to 0."
   ]
  },
  {
   "cell_type": "code",
   "execution_count": 9,
   "metadata": {},
   "outputs": [
    {
     "name": "stdout",
     "output_type": "stream",
     "text": [
      "The shape of training image with padding: (60000, 32, 32, 1)\n",
      "The shape of testing image with padding:  (10000, 32, 32, 1)\n"
     ]
    }
   ],
   "source": [
    "train_image_normalized_pad = normalize(zero_pad(train_image[:,:,:,np.newaxis], 2),'lenet5')\n",
    "test_image_normalized_pad  = normalize(zero_pad(test_image[:,:,:,np.newaxis],  2),'lenet5')\n",
    "print(\"The shape of training image with padding:\", train_image_normalized_pad.shape)\n",
    "print(\"The shape of testing image with padding: \", test_image_normalized_pad.shape)"
   ]
  },
  {
   "cell_type": "markdown",
   "metadata": {},
   "source": [
    "# 2. Structure of LeNet5"
   ]
  },
  {
   "cell_type": "markdown",
   "metadata": {},
   "source": [
    "The layers used here is:\n",
    "\n",
    "**C1** → a1 → **S2** → **C3** → a2 → **S4** → **C5** → a3 → **F6** → a4 → **RBF**\n",
    "\n",
    "where `a` denotes the squash function (activations).\n",
    "\n",
    "The structure is much alike with the original one, but still have some differences:\n",
    "1. Substitue the **sub-sampling** with **average pooling**, which is more accpetable choice without training in the layer and needless to be followed by activation funcitons. I've tried using max-pooling, it blurs the feature maps and gave low accuracy.\n",
    "\n",
    "2. I used **momentum optimizer** when updating the weights to accelerate the training process, which wasn't used in the original LeNet5. "
   ]
  },
  {
   "cell_type": "code",
   "execution_count": 10,
   "metadata": {},
   "outputs": [],
   "source": [
    "# Designate combination of kernels and feature maps of S2.\n",
    "C3_mapping = [[0,1,2],[1,2,3],[2,3,4],[3,4,5],[4,5,0],[5,0,1],\\\n",
    "              [0,1,2,3],[1,2,3,4],[2,3,4,5],[3,4,5,0],[4,5,0,1],[5,0,1,2],\\\n",
    "              [0,1,3,4],[1,2,4,5],[0,2,3,5],\\\n",
    "              [0,1,2,3,4,5]]"
   ]
  },
  {
   "cell_type": "code",
   "execution_count": 11,
   "metadata": {},
   "outputs": [
    {
     "data": {
      "image/png": "[encoded data removed]",
      "text/plain": [
       "<Figure size 2000x800 with 10 Axes>"
      ]
     },
     "metadata": {},
     "output_type": "display_data"
    }
   ],
   "source": [
    "# The fixed weight (7x12 preset ASCII bitmaps) used in the RBF layer.\n",
    "bitmap = rbf_init_weight()\n",
    "fig, axarr = plt.subplots(2,5,figsize=(20,8))\n",
    "for i in range(10):\n",
    "    x,y = int(i/5), i%5\n",
    "    axarr[x,y].set_title(str(i))\n",
    "    axarr[x,y].imshow(bitmap[i,:].reshape(12,7), cmap=mpl.cm.Greys)"
   ]
  },
  {
   "cell_type": "code",
   "execution_count": 12,
   "metadata": {
    "code_folding": []
   },
   "outputs": [],
   "source": [
    "# LeNet5 object (also stored in utils/LayerObjects.py)\n",
    "class LeNet5(object):\n",
    "    def __init__(self):\n",
    "        kernel_shape = {\"C1\": (5,5,1,6),\n",
    "                        \"C3\": (5,5,6,16),    ### C3 has designated combinations\n",
    "                        \"C5\": (5,5,16,120),  ### It's actually a FC layer\n",
    "                        \"F6\": (120,84),\n",
    "                        \"OUTPUT\": (84,10)}\n",
    "        \n",
    "        hparameters_convlayer = {\"stride\": 1, \"pad\": 0}\n",
    "        hparameters_pooling   = {\"stride\": 2, \"f\": 2}        \n",
    "        \n",
    "        self.C1 = ConvLayer(kernel_shape[\"C1\"], hparameters_convlayer)\n",
    "        self.a1 = Activation(\"LeNet5_squash\")\n",
    "        self.S2 = PoolingLayer(hparameters_pooling, \"average\")\n",
    "        \n",
    "        self.C3 = ConvLayer_maps(kernel_shape[\"C3\"], hparameters_convlayer, C3_mapping)\n",
    "        self.a2 = Activation(\"LeNet5_squash\")\n",
    "        self.S4 = PoolingLayer(hparameters_pooling, \"average\")\n",
    "        \n",
    "        self.C5 = ConvLayer(kernel_shape[\"C5\"], hparameters_convlayer)\n",
    "        self.a3 = Activation(\"LeNet5_squash\")\n",
    "\n",
    "        self.F6 = FCLayer(kernel_shape[\"F6\"])\n",
    "        self.a4 = Activation(\"LeNet5_squash\")\n",
    "        \n",
    "        self.Output = RBFLayer(bitmap)\n",
    "        \n",
    "    def Forward_Propagation(self, input_image, input_label, mode): \n",
    "        self.label = input_label\n",
    "        self.C1_FP = self.C1.foward_prop(input_image)\n",
    "        self.a1_FP = self.a1.foward_prop(self.C1_FP)\n",
    "        self.S2_FP = self.S2.foward_prop(self.a1_FP)\n",
    "\n",
    "        self.C3_FP = self.C3.foward_prop(self.S2_FP)\n",
    "        self.a2_FP = self.a2.foward_prop(self.C3_FP)\n",
    "        self.S4_FP = self.S4.foward_prop(self.a2_FP)\n",
    "\n",
    "        self.C5_FP = self.C5.foward_prop(self.S4_FP)\n",
    "        self.a3_FP = self.a3.foward_prop(self.C5_FP)\n",
    "\n",
    "        self.flatten = self.a3_FP[:,0,0,:]\n",
    "        self.F6_FP = self.F6.foward_prop(self.flatten)\n",
    "        self.a4_FP = self.a4.foward_prop(self.F6_FP)  \n",
    "        \n",
    "        # output sum of the loss over mini-batch when mode = 'train'\n",
    "        # output tuple of (0/1 error, class_predict) when mode = 'test'\n",
    "        out  = self.Output.foward_prop(self.a4_FP, input_label, mode) \n",
    "\n",
    "        return out \n",
    "        \n",
    "    def Back_Propagation(self, momentum, weight_decay):\n",
    "        dy_pred = self.Output.back_prop()\n",
    "        \n",
    "        dy_pred = self.a4.back_prop(dy_pred)\n",
    "        F6_BP = self.F6.back_prop(dy_pred, momentum, weight_decay)\n",
    "        reverse_flatten = F6_BP[:,np.newaxis,np.newaxis,:]\n",
    "        \n",
    "        reverse_flatten = self.a3.back_prop(reverse_flatten) \n",
    "        C5_BP = self.C5.back_prop(reverse_flatten, momentum, weight_decay)\n",
    "        \n",
    "        S4_BP = self.S4.back_prop(C5_BP)\n",
    "        S4_BP = self.a2.back_prop(S4_BP)\n",
    "        C3_BP = self.C3.back_prop(S4_BP, momentum, weight_decay) \n",
    "        \n",
    "        S2_BP = self.S2.back_prop(C3_BP)\n",
    "        S2_BP = self.a1.back_prop(S2_BP)  \n",
    "        C1_BP = self.C1.back_prop(S2_BP, momentum, weight_decay)\n",
    "        \n",
    "    # Stochastic Diagonal Levenberg-Marquaedt method for determining the learning rate before the beginning of each epoch\n",
    "    def SDLM(self, mu, lr_global):\n",
    "        d2y_pred = self.Output.SDLM()\n",
    "        d2y_pred = self.a4.SDLM(d2y_pred)\n",
    "        \n",
    "        F6_SDLM = self.F6.SDLM(d2y_pred, mu, lr_global)\n",
    "        reverse_flatten = F6_SDLM[:,np.newaxis,np.newaxis,:]\n",
    "        \n",
    "        reverse_flatten = self.a3.SDLM(reverse_flatten) \n",
    "        C5_SDLM = self.C5.SDLM(reverse_flatten, mu, lr_global)\n",
    "        \n",
    "        S4_SDLM = self.S4.SDLM(C5_SDLM)\n",
    "        S4_SDLM = self.a2.SDLM(S4_SDLM)\n",
    "        C3_SDLM = self.C3.SDLM(S4_SDLM, mu, lr_global)\n",
    "        \n",
    "        S2_SDLM = self.S2.SDLM(C3_SDLM)\n",
    "        S2_SDLM = self.a1.SDLM(S2_SDLM)  \n",
    "        C1_SDLM = self.C1.SDLM(S2_SDLM, mu, lr_global)"
   ]
  },
  {
   "cell_type": "code",
   "execution_count": 13,
   "metadata": {},
   "outputs": [],
   "source": [
    "ConvNet = LeNet5()"
   ]
  },
  {
   "cell_type": "markdown",
   "metadata": {},
   "source": [
    "# 3. Training & Testing"
   ]
  },
  {
   "cell_type": "markdown",
   "metadata": {},
   "source": [
    "## 3.1 Hyperparameters"
   ]
  },
  {
   "cell_type": "markdown",
   "metadata": {},
   "source": [
    "Stochastic Diagonal Levenberg-Marquaedt method is used in the original LeNet5. However, the resulting range of learning rates is much smaller than the one given in the paper (maybe bugs exist in the SDLM code). Therefore, 100x global learning rates are used here.\n",
    "\n",
    "\n",
    "Momentum (0.9) is used to accelerate the convergence (reduce loss faster). Overfitting was not observed in the original LeNet5, so weight decay is set 0.\n",
    "\n",
    "\n",
    "The original paper didn't mention the batch size used in SGD (seems to be 1 but not sure), but size of 256 is used."
   ]
  },
  {
   "cell_type": "code",
   "execution_count": 14,
   "metadata": {},
   "outputs": [],
   "source": [
    "# Number of epoches & learning rate in the original paper\n",
    "epoch_orig, lr_global_orig = 20, np.array([5e-4]*2 + [2e-4]*3 + [1e-4]*3 + [5e-5]*4 + [1e-5]*8) \n",
    "\n",
    "# Number of epoches & learning rate I used\n",
    "epoches, lr_global_list = epoch_orig, lr_global_orig*100\n",
    "\n",
    "momentum = 0.9\n",
    "weight_decay = 0\n",
    "batch_size = 256"
   ]
  },
  {
   "cell_type": "markdown",
   "metadata": {},
   "source": [
    "## 3.2 Start Training"
   ]
  },
  {
   "cell_type": "code",
   "execution_count": 16,
   "metadata": {
    "code_folding": []
   },
   "outputs": [
    {
     "name": "stdout",
     "output_type": "stream",
     "text": [
      "---------- epoch 1 begin ----------\n",
      "global learning rate: 0.05\n",
      "learning rates in trainable layers: [1.02997186e-05 1.63056979e-05 2.89130571e-05 3.00372827e-05]\n",
      "batch size: 256\n",
      "Momentum: 0.9 , weight decay: 0\n",
      "\u001b[F\u001b[KDone, cost of epoch 1 : 707989.1330586754                                              \n",
      "0/1 error of training set: 4143 / 60000\n",
      "0/1 error of testing set:  649 / 10000\n",
      "Time used:  180.8119878768921 sec\n",
      "---------- epoch 1 end ------------\n"
     ]
    },
    {
     "name": "stderr",
     "output_type": "stream",
     "text": [
      "UsageError: unrecognized arguments: -e\n"
     ]
    }
   ],
   "source": [
    "#Training loops\n",
    "st = time.time()\n",
    "cost_last, count = np.inf, 0\n",
    "err_rate_list = []\n",
    "for epoch in range(0,epoches):\n",
    "    print(\"---------- epoch\", epoch+1, \"begin ----------\")\n",
    "    \n",
    "    # Stochastic Diagonal Levenberg-Marquaedt method for determining the learning rate \n",
    "    (batch_image, batch_label) = random_mini_batches(train_image_normalized_pad, train_label, mini_batch_size = 500, one_batch=True)\n",
    "    ConvNet.Forward_Propagation(batch_image, batch_label, 'train')\n",
    "    lr_global = lr_global_list[epoch]\n",
    "    ConvNet.SDLM(0.02, lr_global)\n",
    "    \n",
    "    # print info\n",
    "    print(\"global learning rate:\", lr_global)\n",
    "    print(\"learning rates in trainable layers:\", np.array([ConvNet.C1.lr, ConvNet.C3.lr, ConvNet.C5.lr, ConvNet.F6.lr]))\n",
    "    print(\"batch size:\", batch_size)\n",
    "    print(\"Momentum:\",momentum,\", weight decay:\",weight_decay)\n",
    "    \n",
    "    #loop over each batch\n",
    "    ste = time.time()\n",
    "    cost = 0\n",
    "    mini_batches = random_mini_batches(train_image_normalized_pad, train_label, batch_size)\n",
    "    for i in range(len(mini_batches)):\n",
    "        batch_image, batch_label = mini_batches[i]\n",
    "        \n",
    "        loss = ConvNet.Forward_Propagation(batch_image, batch_label, 'train')     \n",
    "        cost += loss\n",
    "        \n",
    "        ConvNet.Back_Propagation(momentum, weight_decay) \n",
    "\n",
    "        # print progress\n",
    "        if i%(int(len(mini_batches)/100))==0:\n",
    "            sys.stdout.write(\"\\033[F\")   #CURSOR_UP_ONE\n",
    "            sys.stdout.write(\"\\033[K\")   #ERASE_LINE\n",
    "            print (\"progress:\", int(100*(i+1)/len(mini_batches)), \"%, \", \"cost =\", cost, end='\\r')\n",
    "    sys.stdout.write(\"\\033[F\")   #CURSOR_UP_ONE\n",
    "    sys.stdout.write(\"\\033[K\")   #ERASE_LINE\n",
    "    \n",
    "    print (\"Done, cost of epoch\", epoch+1, \":\", cost,\"                                             \")\n",
    "    \n",
    "    error01_train, _ = ConvNet.Forward_Propagation(train_image_normalized_pad, train_label, 'test')  \n",
    "    error01_test, _  = ConvNet.Forward_Propagation(test_image_normalized_pad,  test_label,  'test')     \n",
    "    err_rate_list.append([error01_train/60000, error01_test/10000])\n",
    "    print(\"0/1 error of training set:\",  error01_train, \"/\", len(train_label))\n",
    "    print(\"0/1 error of testing set: \",  error01_test,  \"/\", len(test_label))\n",
    "    print(\"Time used: \",time.time() - ste, \"sec\")\n",
    "    print(\"---------- epoch\", epoch+1, \"end ------------\")\n",
    "    with open('model_data_'+str(epoch)+'.pkl', 'wb') as output:\n",
    "        pickle.dump(ConvNet, output, pickle.HIGHEST_PROTOCOL)\n",
    "    # %notebook -e foo.ipynb\n",
    "    \n",
    "err_rate_list = np.array(err_rate_list).T\n",
    "print(\"Total time used: \", time.time() - st, \"sec\")"
   ]
  },
  {
   "cell_type": "code",
   "execution_count": 30,
   "metadata": {},
   "outputs": [
    {
     "data": {
      "image/png": "[encoded data removed]",
      "text/plain": [
       "<matplotlib.figure.Figure at 0x261019b77f0>"
      ]
     },
     "metadata": {},
     "output_type": "display_data"
    }
   ],
   "source": [
    "# This shows the error rate of training and testing data after each epoch\n",
    "x = np.arange(epoches)\n",
    "plt.xlabel('epoches')\n",
    "plt.ylabel('error rate')\n",
    "plt.plot(x, err_rate_list[0])\n",
    "plt.plot(x, err_rate_list[1])\n",
    "plt.legend(['training data', 'testing data'], loc='upper right')\n",
    "plt.show()"
   ]
  },
  {
   "cell_type": "markdown",
   "metadata": {},
   "source": [
    "## 3.3 Testing"
   ]
  },
  {
   "cell_type": "markdown",
   "metadata": {},
   "source": [
    "Change models here and try out their accuracy."
   ]
  },
  {
   "cell_type": "code",
   "execution_count": 24,
   "metadata": {
    "code_folding": []
   },
   "outputs": [],
   "source": [
    "# save model\n",
    "#with open('model_data.pkl', 'wb') as output:\n",
    "#    pickle.dump(ConvNet, output, pickle.HIGHEST_PROTOCOL)"
   ]
  },
  {
   "cell_type": "code",
   "execution_count": 26,
   "metadata": {
    "code_folding": []
   },
   "outputs": [],
   "source": [
    "# read model\n",
    "with open('model_data_13.pkl', 'rb') as input_:\n",
    "    ConvNet = pickle.load(input_)"
   ]
  },
  {
   "cell_type": "code",
   "execution_count": 27,
   "metadata": {},
   "outputs": [
    {
     "name": "stdout",
     "output_type": "stream",
     "text": [
      "error rate: 0.0138\n"
     ]
    }
   ],
   "source": [
    "test_image_normalized_pad = normalize(zero_pad(test_image[:,:,:,np.newaxis], 2), 'lenet5')\n",
    "error01, class_pred = ConvNet.Forward_Propagation(test_image_normalized_pad, test_label, 'test')\n",
    "#print(class_pred)\n",
    "print(\"error rate:\", error01/len(class_pred))"
   ]
  },
  {
   "cell_type": "markdown",
   "metadata": {},
   "source": [
    "# 4. Insight of Layers"
   ]
  },
  {
   "cell_type": "markdown",
   "metadata": {},
   "source": [
    "## 4.1 Feature maps of each layer"
   ]
  },
  {
   "cell_type": "markdown",
   "metadata": {},
   "source": [
    "The 1st cell choose a random instance from the training data. Running over following cells shows you its feature maps in different layers. You can see that it eventually gives a result resembles to the pre-determined weight in RBF layer."
   ]
  },
  {
   "cell_type": "code",
   "execution_count": 32,
   "metadata": {},
   "outputs": [
    {
     "name": "stdout",
     "output_type": "stream",
     "text": [
      "Correct label: 3\n",
      "Predict label: 3\n"
     ]
    },
    {
     "data": {
      "image/png": "[encoded data removed]",
      "text/plain": [
       "<matplotlib.figure.Figure at 0x26100f60748>"
      ]
     },
     "metadata": {},
     "output_type": "display_data"
    }
   ],
   "source": [
    "index = np.random.randint(60000,size=2)\n",
    "train_image_sample = train_image_normalized_pad[index,:,:,:]\n",
    "train_label_sample = train_label[index]\n",
    "print(\"Correct label:\",train_label_sample[0])\n",
    "plt.imshow(train_image_sample[0,:,:,0], cmap=mpl.cm.Greys)\n",
    "_, pred = ConvNet.Forward_Propagation(train_image_sample, train_label_sample, 'test')\n",
    "print(\"Predict label:\",pred[0])"
   ]
  },
  {
   "cell_type": "code",
   "execution_count": 71,
   "metadata": {},
   "outputs": [
    {
     "name": "stdout",
     "output_type": "stream",
     "text": [
      "Feature maps of C1\n"
     ]
    },
    {
     "data": {
      "image/png": "[encoded data removed]",
      "text/plain": [
       "<matplotlib.figure.Figure at 0x26104762668>"
      ]
     },
     "metadata": {},
     "output_type": "display_data"
    }
   ],
   "source": [
    "# Feature maps of C1\n",
    "print(\"Feature maps of C1\")\n",
    "C1map = ConvNet.C1_FP[0]\n",
    "fig, axarr = plt.subplots(1,6,figsize=(18,9))\n",
    "\n",
    "for j in range(6):\n",
    "    axarr[j].axis('off') \n",
    "    axarr[j].set_title( 'C1_map'+str(j+1))\n",
    "    axarr[j].imshow(C1map[:,:,j], cmap=mpl.cm.Greys)"
   ]
  },
  {
   "cell_type": "code",
   "execution_count": 75,
   "metadata": {},
   "outputs": [
    {
     "name": "stdout",
     "output_type": "stream",
     "text": [
      "Feature maps of a1\n"
     ]
    },
    {
     "data": {
      "image/png": "[encoded data removed]",
      "text/plain": [
       "<matplotlib.figure.Figure at 0x26100717a20>"
      ]
     },
     "metadata": {},
     "output_type": "display_data"
    }
   ],
   "source": [
    "a1map = ConvNet.a1_FP[0]\n",
    "print(\"Feature maps of a1\")\n",
    "fig, axarr = plt.subplots(1,6,figsize=(18,9))\n",
    "for j in range(6):\n",
    "    axarr[j].axis('off') \n",
    "    axarr[j].set_title( 'a1_map'+str(j+1))\n",
    "    axarr[j].imshow(a1map[:,:,j], cmap=mpl.cm.Greys)"
   ]
  },
  {
   "cell_type": "code",
   "execution_count": 77,
   "metadata": {},
   "outputs": [
    {
     "name": "stdout",
     "output_type": "stream",
     "text": [
      "Feature maps of S2\n"
     ]
    },
    {
     "data": {
      "image/png": "[encoded data removed]",
      "text/plain": [
       "<matplotlib.figure.Figure at 0x261047c08d0>"
      ]
     },
     "metadata": {},
     "output_type": "display_data"
    }
   ],
   "source": [
    "S2map = ConvNet.S2_FP[0]\n",
    "print(\"Feature maps of S2\")\n",
    "# Feature maps of C1\n",
    "fig, axarr = plt.subplots(1,6,figsize=(18,9))\n",
    "for j in range(6):\n",
    "    axarr[j].axis('off') \n",
    "    axarr[j].set_title( 'S2_map'+str(j+1))\n",
    "    axarr[j].imshow(S2map[:,:,j], cmap=mpl.cm.Greys)"
   ]
  },
  {
   "cell_type": "code",
   "execution_count": 83,
   "metadata": {},
   "outputs": [
    {
     "data": {
      "image/png": "[encoded data removed]",
      "text/plain": [
       "<matplotlib.figure.Figure at 0x261019c4c88>"
      ]
     },
     "metadata": {},
     "output_type": "display_data"
    }
   ],
   "source": [
    "# Feature maps of C3\n",
    "C3map = ConvNet.C3_FP[0]\n",
    "fig, axarr = plt.subplots(2,8,figsize=(18,5))\n",
    "\n",
    "for j in range(16):\n",
    "    x,y = int(j/8), j%8\n",
    "    axarr[x,y].axis('off') \n",
    "    axarr[x,y].set_title( 'C3_map'+str(j+1))\n",
    "    axarr[x,y].imshow(C3map[:,:,j], cmap=mpl.cm.Greys)"
   ]
  },
  {
   "cell_type": "code",
   "execution_count": 85,
   "metadata": {},
   "outputs": [
    {
     "name": "stdout",
     "output_type": "stream",
     "text": [
      "Feature maps of a2\n"
     ]
    },
    {
     "data": {
      "image/png": "[encoded data removed]",
      "text/plain": [
       "<matplotlib.figure.Figure at 0x2610012a128>"
      ]
     },
     "metadata": {},
     "output_type": "display_data"
    }
   ],
   "source": [
    "# Feature maps of a2\n",
    "print(\"Feature maps of a2\")\n",
    "a2map = ConvNet.a2_FP[0]\n",
    "fig, axarr = plt.subplots(2,8,figsize=(18,5))\n",
    "\n",
    "for j in range(16):\n",
    "    x,y = int(j/8), j%8\n",
    "    axarr[x,y].axis('off') \n",
    "    axarr[x,y].set_title( 'a2_map'+str(j+1))\n",
    "    axarr[x,y].imshow(a2map[:,:,j], cmap=mpl.cm.Greys)"
   ]
  },
  {
   "cell_type": "code",
   "execution_count": 88,
   "metadata": {},
   "outputs": [
    {
     "name": "stdout",
     "output_type": "stream",
     "text": [
      "Feature maps of S4\n"
     ]
    },
    {
     "data": {
      "image/png": "[encoded data removed]",
      "text/plain": [
       "<matplotlib.figure.Figure at 0x26100f28908>"
      ]
     },
     "metadata": {},
     "output_type": "display_data"
    }
   ],
   "source": [
    "# Feature maps of S4\n",
    "print(\"Feature maps of S4\")\n",
    "S4map = ConvNet.S4_FP[0]\n",
    "fig, axarr = plt.subplots(2,8,figsize=(18,5))\n",
    "\n",
    "for j in range(16):\n",
    "    x,y = int(j/8), j%8\n",
    "    axarr[x,y].axis('off') \n",
    "    axarr[x,y].set_title( 'S4_map'+str(j+1))\n",
    "    axarr[x,y].imshow(S4map[:,:,j], cmap=mpl.cm.Greys)"
   ]
  },
  {
   "cell_type": "code",
   "execution_count": 92,
   "metadata": {},
   "outputs": [
    {
     "name": "stdout",
     "output_type": "stream",
     "text": [
      "Feature maps of C5\n"
     ]
    },
    {
     "data": {
      "text/plain": [
       "<matplotlib.image.AxesImage at 0x26107fc9a58>"
      ]
     },
     "execution_count": 92,
     "metadata": {},
     "output_type": "execute_result"
    },
    {
     "data": {
      "image/png": "[encoded data removed]",
      "text/plain": [
       "<matplotlib.figure.Figure at 0x261000a8710>"
      ]
     },
     "metadata": {},
     "output_type": "display_data"
    }
   ],
   "source": [
    "# Feature maps of C5\n",
    "print(\"Feature maps of C5\")\n",
    "C5map = (ConvNet.C5_FP[0])[0]\n",
    "plt.figure(figsize=(20,10))\n",
    "plt.axis('off') \n",
    "plt.imshow(C5map, cmap=mpl.cm.Greys)"
   ]
  },
  {
   "cell_type": "code",
   "execution_count": 60,
   "metadata": {},
   "outputs": [
    {
     "name": "stdout",
     "output_type": "stream",
     "text": [
      "Feature maps of F6\n"
     ]
    },
    {
     "data": {
      "text/plain": [
       "<matplotlib.image.AxesImage at 0x2610643b898>"
      ]
     },
     "execution_count": 60,
     "metadata": {},
     "output_type": "execute_result"
    },
    {
     "data": {
      "image/png": "[encoded data removed]",
      "text/plain": [
       "<matplotlib.figure.Figure at 0x2610152b710>"
      ]
     },
     "metadata": {},
     "output_type": "display_data"
    }
   ],
   "source": [
    "# Feature maps of F6\n",
    "print(\"Feature maps of F6\")\n",
    "F6map = (ConvNet.F6_FP[0]).reshape(12,7)\n",
    "plt.axis('off') \n",
    "plt.imshow(F6map, cmap=mpl.cm.Greys)"
   ]
  },
  {
   "cell_type": "code",
   "execution_count": 61,
   "metadata": {},
   "outputs": [
    {
     "name": "stdout",
     "output_type": "stream",
     "text": [
      "Feature maps of a4\n"
     ]
    },
    {
     "data": {
      "text/plain": [
       "<matplotlib.image.AxesImage at 0x261005fc4e0>"
      ]
     },
     "execution_count": 61,
     "metadata": {},
     "output_type": "execute_result"
    },
    {
     "data": {
      "image/png": "[encoded data removed]",
      "text/plain": [
       "<matplotlib.figure.Figure at 0x2610815c7f0>"
      ]
     },
     "metadata": {},
     "output_type": "display_data"
    }
   ],
   "source": [
    "# Feature maps of a4\n",
    "print(\"Feature maps of a4\")\n",
    "a4map = (ConvNet.a4_FP[0]).reshape(12,7)\n",
    "plt.axis('off') \n",
    "plt.imshow(a4map, cmap=mpl.cm.Greys)"
   ]
  },
  {
   "cell_type": "markdown",
   "metadata": {},
   "source": [
    "## 4.2 Kernels of C1, C3 & C5\n",
    "Actually, knowing how the kernels look like doesn't really important since they are tuned by the training process (So I put this section at the end)."
   ]
  },
  {
   "cell_type": "code",
   "execution_count": 33,
   "metadata": {
    "code_folding": []
   },
   "outputs": [
    {
     "data": {
      "image/png": "[encoded data removed]",
      "text/plain": [
       "<matplotlib.figure.Figure at 0x26100f17908>"
      ]
     },
     "metadata": {},
     "output_type": "display_data"
    }
   ],
   "source": [
    "# The filters of C1\n",
    "fig, axarr = plt.subplots(1,6,figsize=(15,15))\n",
    "for i in range(6):\n",
    "    axarr[i].axis('off')\n",
    "    axarr[i].imshow(ConvNet.C1.weight[:,:,0,i], cmap=mpl.cm.Greys)"
   ]
  },
  {
   "cell_type": "code",
   "execution_count": 11,
   "metadata": {},
   "outputs": [
    {
     "name": "stdout",
     "output_type": "stream",
     "text": [
      "kernels of C3\n"
     ]
    },
    {
     "data": {
      "image/png": "[encoded data removed]",
      "text/plain": [
       "<matplotlib.figure.Figure at 0x2153232cc88>"
      ]
     },
     "metadata": {},
     "output_type": "display_data"
    }
   ],
   "source": [
    "# The filters of C3\n",
    "print(\"kernels of C3\")\n",
    "fig, axarr = plt.subplots(16,6,figsize=(15,15))\n",
    "C3_kernel = np.array(ConvNet.C3.wb)[:,0].T\n",
    "for i in range(16):\n",
    "    k = 0\n",
    "    for j in range(6):\n",
    "        axarr[i,j].axis('off')\n",
    "        if j in (C3_mapping[i]):      \n",
    "            axarr[i,j].imshow(C3_kernel[i][:,:,k,0], cmap=mpl.cm.Greys)\n",
    "            k = k+1"
   ]
  },
  {
   "cell_type": "code",
   "execution_count": null,
   "metadata": {},
   "outputs": [],
   "source": [
    "# The filters of C5\n",
    "# There are a lot of images so didn't save the result here. Run this cell to print out if you want to take a look.\n",
    "print(\"kernels of C5\")\n",
    "fig, axarr = plt.subplots(120,16,figsize=(15,200))\n",
    "C5_weight = np.array(ConvNet.C5.weight)\n",
    "for i in range(120*16):\n",
    "    x, y = int(i/16), i%16\n",
    "    axarr[x,y].axis('off')\n",
    "    axarr[x,y].imshow(C5_weight[:,:,y,x], cmap=mpl.cm.Greys)"
   ]
  }
 ],
 "metadata": {
  "anaconda-cloud": {},
  "kernelspec": {
   "display_name": "Python 3",
   "language": "python",
   "name": "python3"
  },
  "language_info": {
   "codemirror_mode": {
    "name": "ipython",
    "version": 3
   },
   "file_extension": ".py",
   "mimetype": "text/x-python",
   "name": "python",
   "nbconvert_exporter": "python",
   "pygments_lexer": "ipython3",
   "version": "3.11.5"
  }
 },
 "nbformat": 4,
 "nbformat_minor": 2
}
