{
 "cells": [
  {
   "cell_type": "markdown",
   "metadata": {},
   "source": [
    "# Execution Speed Test"
   ]
  },
  {
   "cell_type": "markdown",
   "metadata": {},
   "source": [
    "I modified the the forward- & backward-propagation functions of convolution & pooling (reduce number of for-loops) from the Andrew Ng's Coursera courses. Comparisons with original & modified versions are shown in this notebook."
   ]
  },
  {
   "cell_type": "code",
   "execution_count": 1,
   "metadata": {},
   "outputs": [],
   "source": [
    "import numpy as np \n",
    "import time"
   ]
  },
  {
   "cell_type": "code",
   "execution_count": 2,
   "metadata": {
    "code_folding": [
     0
    ]
   },
   "outputs": [],
   "source": [
    "from utils.Convolution_util import conv_forward, conv_forward_orig, conv_forward_scipy, conv_backward, conv_backward_orig\n",
    "from utils.Pooling_util     import pool_forward, pool_forward_orig, pool_backward, pool_backward_orig"
   ]
  },
  {
   "cell_type": "code",
   "execution_count": 3,
   "metadata": {},
   "outputs": [],
   "source": [
    "batch_size = 256"
   ]
  },
  {
   "cell_type": "markdown",
   "metadata": {},
   "source": [
    "# 1. Convolution Functions"
   ]
  },
  {
   "cell_type": "markdown",
   "metadata": {},
   "source": [
    "## C1 layer"
   ]
  },
  {
   "cell_type": "code",
   "execution_count": 4,
   "metadata": {},
   "outputs": [
    {
     "name": "stdout",
     "output_type": "stream",
     "text": [
      "Z's mean = -0.14876743804848672\n",
      "Z[1,1,1] = [-3.22710315 -1.10054548 -3.95463566 -1.37380556 -0.95368087  1.67777979]\n",
      "cache_conv[0][1][2][3] = [0.22619976]\n",
      "Z[1,1,1] = [-3.22710315 -1.10054548 -3.95463566 -1.37380556 -0.95368087  1.67777979]\n",
      "cache_conv[0][1][2][3] = [0.22619976]\n",
      "Z's mean = -0.14876743804848672\n",
      "Z[1,1,1] = [-3.22710315 -1.10054548 -3.95463566 -1.37380556 -0.95368087  1.67777979]\n",
      "cache_conv[0][1][2][3] = [0.22619976]\n",
      "\n",
      "original version: 9.388846158981323 sec\n",
      "Scipy version:    0.15309810638427734 sec\n",
      "Modified version: 0.05705142021179199 sec\n"
     ]
    }
   ],
   "source": [
    "np.random.seed(1)\n",
    "A_prev = np.random.randn(batch_size,32,32,1)\n",
    "W = np.random.randn(5,5,1,6)\n",
    "b = np.random.randn(1,1,1,6)\n",
    "hparameters = {\"pad\" : 0,\n",
    "               \"stride\": 1}\n",
    "st = time.time()\n",
    "Z, cache_conv = conv_forward_orig(A_prev, W, b, hparameters)\n",
    "print(\"Z's mean =\", np.mean(Z))\n",
    "print(\"Z[1,1,1] =\", Z[1,1,1])\n",
    "print(\"cache_conv[0][1][2][3] =\", cache_conv[0][1][2][3])\n",
    "ort = time.time()-st\n",
    "\n",
    "st = time.time()\n",
    "Z, cache_conv = conv_forward_scipy(A_prev, W, b, hparameters)\n",
    "print(\"Z[1,1,1] =\", Z[1,1,1])\n",
    "print(\"cache_conv[0][1][2][3] =\", cache_conv[0][1][2][3])\n",
    "spt = time.time()-st\n",
    "\n",
    "st = time.time()\n",
    "Z, cache_conv = conv_forward(A_prev, W, b, hparameters)\n",
    "print(\"Z's mean =\", np.mean(Z))\n",
    "print(\"Z[1,1,1] =\", Z[1,1,1])\n",
    "print(\"cache_conv[0][1][2][3] =\", cache_conv[0][1][2][3])\n",
    "npt = time.time()-st\n",
    "\n",
    "print()\n",
    "print(\"original version:\", ort, \"sec\")\n",
    "print(\"Scipy version:   \", spt, \"sec\")\n",
    "print(\"Modified version:\", npt, \"sec\")"
   ]
  },
  {
   "cell_type": "code",
   "execution_count": 5,
   "metadata": {},
   "outputs": [
    {
     "name": "stdout",
     "output_type": "stream",
     "text": [
      "dA_mean = 12.894728131339294\n",
      "dW_mean = 2695.954824894089\n",
      "db_mean = -29858.219886083494\n",
      "dA_mean = 12.894728131339294\n",
      "dW_mean = 2695.954824893754\n",
      "db_mean = -29858.219886082752\n",
      "\n",
      "original version: 16.46066927909851 sec\n",
      "Modified version: 0.2252063751220703 sec\n"
     ]
    }
   ],
   "source": [
    "st = time.time()\n",
    "dA, dW, db = conv_backward(Z, cache_conv)\n",
    "print(\"dA_mean =\", np.mean(dA))\n",
    "print(\"dW_mean =\", np.mean(dW))\n",
    "print(\"db_mean =\", np.mean(db))\n",
    "npt = time.time()-st\n",
    "\n",
    "st = time.time()\n",
    "dA, dW, db = conv_backward_orig(Z, cache_conv)\n",
    "print(\"dA_mean =\", np.mean(dA))\n",
    "print(\"dW_mean =\", np.mean(dW))\n",
    "print(\"db_mean =\", np.mean(db))\n",
    "ort = time.time()-st\n",
    "\n",
    "print()\n",
    "print(\"original version:\", ort, \"sec\")\n",
    "print(\"Modified version:\", npt, \"sec\")"
   ]
  },
  {
   "cell_type": "markdown",
   "metadata": {},
   "source": [
    "## C3 layer"
   ]
  },
  {
   "cell_type": "code",
   "execution_count": 6,
   "metadata": {},
   "outputs": [
    {
     "name": "stdout",
     "output_type": "stream",
     "text": [
      "Z's mean = 0.23650089260081633\n",
      "Z[1,1,1] = [-24.74602151   8.56199419  -4.96367779   0.17355221  13.39090722\n",
      "  -3.52219565   0.74075639   9.18024209   3.39520075 -17.16493518\n",
      "   1.10822531   7.55772025  -6.23013403  -1.43875116   0.30435417\n",
      "   4.59166512]\n",
      "cache_conv[0][1][2][3] = [ 0.9328419   0.43977638 -0.88880654 -0.59067795  1.34486048  0.32763108]\n",
      "Z's mean = 0.23650089260081633\n",
      "Z[1,1,1] = [-24.74602151   8.56199419  -4.96367779   0.17355221  13.39090722\n",
      "  -3.52219565   0.74075639   9.18024209   3.39520075 -17.16493518\n",
      "   1.10822531   7.55772025  -6.23013403  -1.43875116   0.30435417\n",
      "   4.59166512]\n",
      "cache_conv[0][1][2][3] = [ 0.9328419   0.43977638 -0.88880654 -0.59067795  1.34486048  0.32763108]\n",
      "Z's mean = 0.23650089260081628\n",
      "Z[1,1,1] = [-24.74602151   8.56199419  -4.96367779   0.17355221  13.39090722\n",
      "  -3.52219565   0.74075639   9.18024209   3.39520075 -17.16493518\n",
      "   1.10822531   7.55772025  -6.23013403  -1.43875116   0.30435417\n",
      "   4.59166512]\n",
      "cache_conv[0][1][2][3] = [ 0.9328419   0.43977638 -0.88880654 -0.59067795  1.34486048  0.32763108]\n",
      "\n",
      "original version: 3.3353688716888428 sec\n",
      "Scipy version:    0.5053536891937256 sec\n",
      "Modified version: 0.0210113525390625 sec\n"
     ]
    }
   ],
   "source": [
    "np.random.seed(2)\n",
    "A_prev = np.random.randn(batch_size,14,14,6)\n",
    "W = np.random.randn(5,5,6,16)\n",
    "b = np.random.randn(1,1,1,16)\n",
    "hparameters = {\"pad\" : 0,\n",
    "               \"stride\": 1}\n",
    "st = time.time()\n",
    "Z, cache_conv = conv_forward_orig(A_prev, W, b, hparameters)\n",
    "print(\"Z's mean =\", np.mean(Z))\n",
    "print(\"Z[1,1,1] =\", Z[1,1,1])\n",
    "print(\"cache_conv[0][1][2][3] =\", cache_conv[0][1][2][3])\n",
    "ort = time.time()-st\n",
    "\n",
    "st = time.time()\n",
    "Z, cache_conv = conv_forward_scipy(A_prev, W, b, hparameters)\n",
    "print(\"Z's mean =\", np.mean(Z))\n",
    "print(\"Z[1,1,1] =\", Z[1,1,1])\n",
    "print(\"cache_conv[0][1][2][3] =\", cache_conv[0][1][2][3])\n",
    "spt = time.time()-st\n",
    "\n",
    "st = time.time()\n",
    "Z, cache_conv = conv_forward(A_prev, W, b, hparameters)\n",
    "print(\"Z's mean =\", np.mean(Z))\n",
    "print(\"Z[1,1,1] =\", Z[1,1,1])\n",
    "print(\"cache_conv[0][1][2][3] =\", cache_conv[0][1][2][3])\n",
    "npt = time.time()-st\n",
    "\n",
    "print()\n",
    "print(\"original version:\", ort, \"sec\")\n",
    "print(\"Scipy version:   \", spt, \"sec\")\n",
    "print(\"Modified version:\", npt, \"sec\")"
   ]
  },
  {
   "cell_type": "code",
   "execution_count": 7,
   "metadata": {},
   "outputs": [
    {
     "name": "stdout",
     "output_type": "stream",
     "text": [
      "dA_mean = 7.9633145745499485\n",
      "dW_mean = 1019.8533158340592\n",
      "db_mean = 6054.422850580895\n",
      "dA_mean = 7.963314574549947\n",
      "dW_mean = 1019.8533158340596\n",
      "db_mean = 6054.422850580901\n",
      "\n",
      "original version: 6.23241925239563 sec\n",
      "Modified version: 0.218153715133667 sec\n"
     ]
    }
   ],
   "source": [
    "st = time.time()\n",
    "dA, dW, db = conv_backward(Z, cache_conv)\n",
    "print(\"dA_mean =\", np.mean(dA))\n",
    "print(\"dW_mean =\", np.mean(dW))\n",
    "print(\"db_mean =\", np.mean(db))\n",
    "npt = time.time()-st\n",
    "\n",
    "st = time.time()\n",
    "dA, dW, db = conv_backward_orig(Z, cache_conv)\n",
    "print(\"dA_mean =\", np.mean(dA))\n",
    "print(\"dW_mean =\", np.mean(dW))\n",
    "print(\"db_mean =\", np.mean(db))\n",
    "ort = time.time()-st\n",
    "\n",
    "print()\n",
    "print(\"original version:\", ort, \"sec\")\n",
    "print(\"Modified version:\", npt, \"sec\")"
   ]
  },
  {
   "cell_type": "markdown",
   "metadata": {},
   "source": [
    "## C5 layer"
   ]
  },
  {
   "cell_type": "code",
   "execution_count": 8,
   "metadata": {},
   "outputs": [
    {
     "name": "stdout",
     "output_type": "stream",
     "text": [
      "Z's mean = 0.3291694145581669\n",
      "Z[0,0,0] = [-29.00535095  -0.06348102  16.27341117  17.7405519   10.47261551\n",
      "  -1.05705774  12.46697791  11.23602002 -19.85031152  17.87165007\n",
      " -13.14304127 -42.91619681   3.5092111   13.59546698 -32.10743584\n",
      "   7.43828023  -1.11650339  20.84015467  12.85117634  20.89520861\n",
      "   0.55418232   0.44558704   9.21094584  -6.66597589 -35.29153147\n",
      " -42.83825053  -1.1930062  -17.18390983  27.91304111 -30.29540131\n",
      " -21.30794773  16.18886384 -26.16517836  10.12503484  27.93698046\n",
      " -31.73535725  13.5648285  -12.02677593  10.96076506 -21.58390734\n",
      " -31.15589209   5.07163912 -25.55864946  -5.3747076   -9.97744901\n",
      "  31.41911556  -2.30159301 -38.57874668  20.21319941 -20.41695962\n",
      "  21.71111152 -39.19373373  25.0798643    5.01130154  22.86661744\n",
      "  26.96538954   9.58368199 -21.94025299  25.0717059  -38.60518368\n",
      " -34.5718564    4.29130273   3.6099421   32.59057824 -25.74972298\n",
      " -23.70787947  -6.69569681  38.16879211 -16.74893586 -17.73728276\n",
      " -20.13018639  44.54641106  15.0269817   -5.90306875  14.57528434\n",
      "   9.8226286  -19.90544594  20.72361677  29.03241352  -6.61199438\n",
      "  -3.49557998 -11.30139726 -10.15794151  28.64353466  -3.08793882\n",
      "   2.44228895 -22.89741189 -11.2096445   10.09664852  -1.9256555\n",
      " -25.42067253 -17.23616887 -21.45724967  15.8383611  -11.19901115\n",
      "  -0.51268047 -10.89503308  13.0637711    0.62072559   4.44914096\n",
      "  38.36616661   4.31956036 -20.38449843 -25.64709617  36.75980676\n",
      "   2.0650382  -17.63793169 -30.70751083  24.29014181  -8.8685497\n",
      "  48.20193857  -0.51670838  -4.47496013  34.27150812  23.29484167\n",
      " -10.36031894 -11.39275655  17.09235515  36.07925498 -14.51993882]\n",
      "cache_conv[0][1][2][3] = [ 0.14525875 -0.95365812  0.64355483  0.20046895  0.00906379 -0.56320492\n",
      "  0.85617111  1.24718437  0.38814617  0.89674907  1.3260233   1.58816115\n",
      "  0.22565015 -0.21332802 -0.41494587  0.01374701]\n",
      "Z's mean = 0.3291694145581669\n",
      "Z[0,0,0] = [-29.00535095  -0.06348102  16.27341117  17.7405519   10.47261551\n",
      "  -1.05705774  12.46697791  11.23602002 -19.85031152  17.87165007\n",
      " -13.14304127 -42.91619681   3.5092111   13.59546698 -32.10743584\n",
      "   7.43828023  -1.11650339  20.84015467  12.85117634  20.89520861\n",
      "   0.55418232   0.44558704   9.21094584  -6.66597589 -35.29153147\n",
      " -42.83825053  -1.1930062  -17.18390983  27.91304111 -30.29540131\n",
      " -21.30794773  16.18886384 -26.16517836  10.12503484  27.93698046\n",
      " -31.73535725  13.5648285  -12.02677593  10.96076506 -21.58390734\n",
      " -31.15589209   5.07163912 -25.55864946  -5.3747076   -9.97744901\n",
      "  31.41911556  -2.30159301 -38.57874668  20.21319941 -20.41695962\n",
      "  21.71111152 -39.19373373  25.0798643    5.01130154  22.86661744\n",
      "  26.96538954   9.58368199 -21.94025299  25.0717059  -38.60518368\n",
      " -34.5718564    4.29130273   3.6099421   32.59057824 -25.74972298\n",
      " -23.70787947  -6.69569681  38.16879211 -16.74893586 -17.73728276\n",
      " -20.13018639  44.54641106  15.0269817   -5.90306875  14.57528434\n",
      "   9.8226286  -19.90544594  20.72361677  29.03241352  -6.61199438\n",
      "  -3.49557998 -11.30139726 -10.15794151  28.64353466  -3.08793882\n",
      "   2.44228895 -22.89741189 -11.2096445   10.09664852  -1.9256555\n",
      " -25.42067253 -17.23616887 -21.45724967  15.8383611  -11.19901115\n",
      "  -0.51268047 -10.89503308  13.0637711    0.62072559   4.44914096\n",
      "  38.36616661   4.31956036 -20.38449843 -25.64709617  36.75980676\n",
      "   2.0650382  -17.63793169 -30.70751083  24.29014181  -8.8685497\n",
      "  48.20193857  -0.51670838  -4.47496013  34.27150812  23.29484167\n",
      " -10.36031894 -11.39275655  17.09235515  36.07925498 -14.51993882]\n",
      "cache_conv[0][1][2][3] = [ 0.14525875 -0.95365812  0.64355483  0.20046895  0.00906379 -0.56320492\n",
      "  0.85617111  1.24718437  0.38814617  0.89674907  1.3260233   1.58816115\n",
      "  0.22565015 -0.21332802 -0.41494587  0.01374701]\n",
      "Z's mean = 0.3291694145581669\n",
      "Z[0,0,0] = [-29.00535095  -0.06348102  16.27341117  17.7405519   10.47261551\n",
      "  -1.05705774  12.46697791  11.23602002 -19.85031152  17.87165007\n",
      " -13.14304127 -42.91619681   3.5092111   13.59546698 -32.10743584\n",
      "   7.43828023  -1.11650339  20.84015467  12.85117634  20.89520861\n",
      "   0.55418232   0.44558704   9.21094584  -6.66597589 -35.29153147\n",
      " -42.83825053  -1.1930062  -17.18390983  27.91304111 -30.29540131\n",
      " -21.30794773  16.18886384 -26.16517836  10.12503484  27.93698046\n",
      " -31.73535725  13.5648285  -12.02677593  10.96076506 -21.58390734\n",
      " -31.15589209   5.07163912 -25.55864946  -5.3747076   -9.97744901\n",
      "  31.41911556  -2.30159301 -38.57874668  20.21319941 -20.41695962\n",
      "  21.71111152 -39.19373373  25.0798643    5.01130154  22.86661744\n",
      "  26.96538954   9.58368199 -21.94025299  25.0717059  -38.60518368\n",
      " -34.5718564    4.29130273   3.6099421   32.59057824 -25.74972298\n",
      " -23.70787947  -6.69569681  38.16879211 -16.74893586 -17.73728276\n",
      " -20.13018639  44.54641106  15.0269817   -5.90306875  14.57528434\n",
      "   9.8226286  -19.90544594  20.72361677  29.03241352  -6.61199438\n",
      "  -3.49557998 -11.30139726 -10.15794151  28.64353466  -3.08793882\n",
      "   2.44228895 -22.89741189 -11.2096445   10.09664852  -1.9256555\n",
      " -25.42067253 -17.23616887 -21.45724967  15.8383611  -11.19901115\n",
      "  -0.51268047 -10.89503308  13.0637711    0.62072559   4.44914096\n",
      "  38.36616661   4.31956036 -20.38449843 -25.64709617  36.75980676\n",
      "   2.0650382  -17.63793169 -30.70751083  24.29014181  -8.8685497\n",
      "  48.20193857  -0.51670838  -4.47496013  34.27150812  23.29484167\n",
      " -10.36031894 -11.39275655  17.09235515  36.07925498 -14.51993882]\n",
      "cache_conv[0][1][2][3] = [ 0.14525875 -0.95365812  0.64355483  0.20046895  0.00906379 -0.56320492\n",
      "  0.85617111  1.24718437  0.38814617  0.89674907  1.3260233   1.58816115\n",
      "  0.22565015 -0.21332802 -0.41494587  0.01374701]\n",
      "\n",
      "original version: 0.2652010917663574 sec\n",
      "Scipy version:    5.0375587940216064 sec\n",
      "Modified version: 0.003002166748046875 sec\n"
     ]
    }
   ],
   "source": [
    "np.random.seed(3)\n",
    "A_prev = np.random.randn(batch_size,5,5,16)\n",
    "W = np.random.randn(5,5,16,120)\n",
    "b = np.random.randn(1,1,1,120)\n",
    "hparameters = {\"pad\" : 0,\n",
    "               \"stride\": 1}\n",
    "st = time.time()\n",
    "Z, cache_conv = conv_forward_orig(A_prev, W, b, hparameters)\n",
    "print(\"Z's mean =\", np.mean(Z))\n",
    "print(\"Z[0,0,0] =\", Z[0,0,0])\n",
    "print(\"cache_conv[0][1][2][3] =\", cache_conv[0][1][2][3])\n",
    "ort = time.time()-st\n",
    "\n",
    "st = time.time()\n",
    "Z, cache_conv = conv_forward_scipy(A_prev, W, b, hparameters)\n",
    "print(\"Z's mean =\", np.mean(Z))\n",
    "print(\"Z[0,0,0] =\", Z[0,0,0])\n",
    "print(\"cache_conv[0][1][2][3] =\", cache_conv[0][1][2][3])\n",
    "spt = time.time()-st\n",
    "\n",
    "st = time.time()\n",
    "Z, cache_conv = conv_forward(A_prev, W, b, hparameters)\n",
    "print(\"Z's mean =\", np.mean(Z))\n",
    "print(\"Z[0,0,0] =\", Z[0,0,0])\n",
    "print(\"cache_conv[0][1][2][3] =\", cache_conv[0][1][2][3])\n",
    "npt = time.time()-st\n",
    "\n",
    "print()\n",
    "print(\"original version:\", ort, \"sec\")\n",
    "print(\"Scipy version:   \", spt, \"sec\")\n",
    "print(\"Modified version:\", npt, \"sec\")"
   ]
  },
  {
   "cell_type": "code",
   "execution_count": 9,
   "metadata": {},
   "outputs": [
    {
     "name": "stdout",
     "output_type": "stream",
     "text": [
      "dA_mean = -0.02515825970045661\n",
      "dW_mean = 1.4844713513886318\n",
      "db_mean = 84.26737012689074\n",
      "dA_mean = -0.025158259700457108\n",
      "dW_mean = 1.4844713513886327\n",
      "db_mean = 84.26737012689074\n",
      "\n",
      "original version: 0.47033023834228516 sec\n",
      "Modified version: 0.024018049240112305 sec\n"
     ]
    }
   ],
   "source": [
    "st = time.time()\n",
    "dA, dW, db = conv_backward(Z, cache_conv)\n",
    "print(\"dA_mean =\", np.mean(dA))\n",
    "print(\"dW_mean =\", np.mean(dW))\n",
    "print(\"db_mean =\", np.mean(db))\n",
    "npt = time.time()-st\n",
    "\n",
    "st = time.time()\n",
    "dA, dW, db = conv_backward_orig(Z, cache_conv)\n",
    "print(\"dA_mean =\", np.mean(dA))\n",
    "print(\"dW_mean =\", np.mean(dW))\n",
    "print(\"db_mean =\", np.mean(db))\n",
    "ort = time.time()-st\n",
    "\n",
    "print()\n",
    "print(\"original version:\", ort, \"sec\")\n",
    "print(\"Modified version:\", npt, \"sec\")"
   ]
  },
  {
   "cell_type": "markdown",
   "metadata": {},
   "source": [
    "# 2. Pooling Functions"
   ]
  },
  {
   "cell_type": "markdown",
   "metadata": {},
   "source": [
    "## S2 layer"
   ]
  },
  {
   "cell_type": "code",
   "execution_count": 10,
   "metadata": {},
   "outputs": [
    {
     "name": "stdout",
     "output_type": "stream",
     "text": [
      "mode = max\n",
      "A[0,0,1] = [0.5627611  0.58281521 1.13376944 1.29322588 1.16033857 0.50249434]\n",
      "A[0,0,1] = [0.5627611  0.58281521 1.13376944 1.29322588 1.16033857 0.50249434]\n",
      "\n",
      "original version maxpooling: 1.095789909362793 sec\n",
      "Modified version maxpooling: 0.026018619537353516 sec\n"
     ]
    }
   ],
   "source": [
    "print(\"mode = max\")\n",
    "np.random.seed(1)\n",
    "A_prev = np.random.randn(batch_size, 28, 28, 6)\n",
    "hparameters = {\"stride\" : 2, \"f\": 2}\n",
    "\n",
    "st = time.time()\n",
    "A, cache = pool_forward_orig(A_prev, hparameters, mode = \"max\")\n",
    "omt = time.time()-st\n",
    "print(\"A[0,0,1] =\", A[0,0,1] )\n",
    "\n",
    "st = time.time()\n",
    "A, cache = pool_forward(A_prev, hparameters, mode = \"max\")\n",
    "nmt = time.time()-st\n",
    "print(\"A[0,0,1] =\", A[0,0,1] )\n",
    "\n",
    "print()\n",
    "print(\"original version maxpooling:\", omt, \"sec\")\n",
    "print(\"Modified version maxpooling:\", nmt, \"sec\")"
   ]
  },
  {
   "cell_type": "code",
   "execution_count": 11,
   "metadata": {},
   "outputs": [
    {
     "name": "stdout",
     "output_type": "stream",
     "text": [
      "mode = max, backprop\n",
      "mean of dA =  0.0006126791167612916\n",
      "dA_prev[1,1,2] =  [-0.35445302 -0.58362805  0.          0.          0.62017396  0.        ]\n",
      "mean of dA =  0.0006126791167612916\n",
      "dA_prev[1,1,2] =  [-0.35445302 -0.58362805  0.          0.          0.62017396  0.        ]\n",
      "\n",
      "original version maxpooling: 3.5004804134368896 sec\n",
      "Modified version maxpooling: 0.04502081871032715 sec\n"
     ]
    }
   ],
   "source": [
    "print(\"mode = max, backprop\")\n",
    "dA = np.random.randn(batch_size, 14, 14, 6)\n",
    "\n",
    "st = time.time()\n",
    "dA_prev = pool_backward_orig(dA, cache, mode = \"max\")\n",
    "omt = time.time()-st\n",
    "print('mean of dA = ', np.mean(dA))\n",
    "print('dA_prev[1,1,2] = ', dA_prev[1,1,2])  \n",
    "\n",
    "st = time.time()\n",
    "dA_prev = pool_backward(dA, cache, mode = \"max\")\n",
    "nmt = time.time()-st\n",
    "print('mean of dA = ', np.mean(dA))\n",
    "print('dA_prev[1,1,2] = ', dA_prev[1,1,2])    \n",
    "\n",
    "print()\n",
    "print(\"original version maxpooling:\", omt, \"sec\")\n",
    "print(\"Modified version maxpooling:\", nmt, \"sec\")"
   ]
  },
  {
   "cell_type": "code",
   "execution_count": 12,
   "metadata": {},
   "outputs": [
    {
     "name": "stdout",
     "output_type": "stream",
     "text": [
      "mode = average\n",
      "A[0,0,1] = [-0.24750028  0.18826142  0.20425004  0.31623641  0.44476351 -0.15580836]\n",
      "A[0,0,1] = [-0.24750028  0.18826142  0.20425004  0.31623641  0.44476351 -0.15580836]\n",
      "\n",
      "original version avgpooling: 2.091475009918213 sec\n",
      "Modified version avgpooling: 0.02601337432861328 sec\n"
     ]
    }
   ],
   "source": [
    "print(\"mode = average\")\n",
    "np.random.seed(1)\n",
    "A_prev = np.random.randn(batch_size, 28, 28, 6)\n",
    "hparameters = {\"stride\" : 2, \"f\": 2}\n",
    "\n",
    "st = time.time()\n",
    "A, cache = pool_forward_orig(A_prev, hparameters, mode = \"average\")\n",
    "omt = time.time()-st\n",
    "print(\"A[0,0,1] =\", A[0,0,1] )\n",
    "\n",
    "st = time.time()\n",
    "A, cache = pool_forward(A_prev, hparameters, mode = \"average\")\n",
    "nmt = time.time()-st\n",
    "print(\"A[0,0,1] =\", A[0,0,1] )\n",
    "\n",
    "print()\n",
    "print(\"original version avgpooling:\", omt, \"sec\")\n",
    "print(\"Modified version avgpooling:\", nmt, \"sec\")"
   ]
  },
  {
   "cell_type": "code",
   "execution_count": 13,
   "metadata": {},
   "outputs": [
    {
     "name": "stdout",
     "output_type": "stream",
     "text": [
      "mode = avg, backprop\n",
      "mean of dA =  0.0006126791167612916\n",
      "dA_prev[1,1,2] =  [-0.08861326 -0.14590701  0.11666236  0.04032731  0.15504349 -0.21993704]\n",
      "mean of dA =  0.0006126791167612916\n",
      "dA_prev[1,1,2] =  [-0.08861326 -0.14590701  0.11666236  0.04032731  0.15504349 -0.21993704]\n",
      "\n",
      "original version avgpooling: 2.5307931900024414 sec\n",
      "Modified version avgpooling: 0.018012523651123047 sec\n"
     ]
    }
   ],
   "source": [
    "print(\"mode = avg, backprop\")\n",
    "dA = np.random.randn(batch_size, 14, 14, 6)\n",
    "\n",
    "st = time.time()\n",
    "dA_prev = pool_backward_orig(dA, cache, mode = \"average\")\n",
    "omt = time.time()-st\n",
    "print('mean of dA = ', np.mean(dA))\n",
    "print('dA_prev[1,1,2] = ', dA_prev[1,1,2])  \n",
    "\n",
    "st = time.time()\n",
    "dA_prev = pool_backward(dA, cache, mode = \"average\")\n",
    "nmt = time.time()-st\n",
    "print('mean of dA = ', np.mean(dA))\n",
    "print('dA_prev[1,1,2] = ', dA_prev[1,1,2])    \n",
    "\n",
    "print()\n",
    "print(\"original version avgpooling:\", omt, \"sec\")\n",
    "print(\"Modified version avgpooling:\", nmt, \"sec\")"
   ]
  }
 ],
 "metadata": {
  "kernelspec": {
   "display_name": "Python 3",
   "language": "python",
   "name": "python3"
  },
  "language_info": {
   "codemirror_mode": {
    "name": "ipython",
    "version": 3
   },
   "file_extension": ".py",
   "mimetype": "text/x-python",
   "name": "python",
   "nbconvert_exporter": "python",
   "pygments_lexer": "ipython3",
   "version": "3.6.3"
  }
 },
 "nbformat": 4,
 "nbformat_minor": 2
}
